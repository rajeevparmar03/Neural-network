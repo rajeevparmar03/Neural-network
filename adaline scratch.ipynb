{
 "cells": [
  {
   "cell_type": "code",
   "execution_count": 2,
   "id": "3c0f0c88",
   "metadata": {},
   "outputs": [],
   "source": [
    "import numpy as np \n",
    "from sklearn import datasets \n",
    "from sklearn.model_selection import train_test_split \n"
   ]
  },
  {
   "cell_type": "code",
   "execution_count": 33,
   "id": "1afd0659",
   "metadata": {},
   "outputs": [],
   "source": [
    "class Adaline(object):\n",
    "    def __init__(self ,eta =0.01,n_iter=50,random_state=1):\n",
    "        self.eta=eta\n",
    "        self.n_iter=n_iter\n",
    "        self.random_state=random_state\n",
    "        \n",
    "    def fit(self,x,y ):\n",
    "        rgen=np.random.RandomState(self.random_state)\n",
    "        self.w_ =rgen.normal(loc=0.0,scale=0.01,size=1+x.shape[1])\n",
    "        self.cost_ = []\n",
    "        for i in range(self.n_iter):\n",
    "            net_input=self.net_input(x)\n",
    "            output=self.activation(net_input)\n",
    "            errors=(y- output)\n",
    "            self.w_[1:] += self.eta * x.T.dot(errors)\n",
    "            self.w_[0]+=self.eta *errors.sum()\n",
    "            cost=(errors**2).sum()/2.\n",
    "            self.cost_.append(cost)\n",
    "        return self \n",
    "    def net_input(self,x):\n",
    "        return np.dot(x,self.w_[1:]) +self.w_[0]\n",
    "    \n",
    "    def activation(self,x ):\n",
    "        return x \n",
    "    \n",
    "    def predict(self,x):\n",
    "        return np.where(self.activation(self.net_input(x)) >=  0.0,1,-1)\n",
    "        "
   ]
  },
  {
   "cell_type": "code",
   "execution_count": 29,
   "id": "cd81c45f",
   "metadata": {},
   "outputs": [
    {
     "data": {
      "text/plain": [
       "((331, 10), (111, 10))"
      ]
     },
     "execution_count": 29,
     "metadata": {},
     "output_type": "execute_result"
    }
   ],
   "source": [
    "data=datasets.load_diabetes() \n",
    "x_train,x_test,y_train,y_test=train_test_split(data.data,data.target)\n",
    "x_train.shape,x_test.shape "
   ]
  },
  {
   "cell_type": "code",
   "execution_count": 53,
   "id": "b9aa84e8",
   "metadata": {},
   "outputs": [
    {
     "data": {
      "text/plain": [
       "<__main__.Adaline at 0x19e4d2057e0>"
      ]
     },
     "execution_count": 53,
     "metadata": {},
     "output_type": "execute_result"
    }
   ],
   "source": [
    "ada1 = Adaline(eta=0.0001,n_iter=10)\n",
    "ada1.fit(x_train,y_train)"
   ]
  },
  {
   "cell_type": "code",
   "execution_count": 54,
   "id": "717feca7",
   "metadata": {},
   "outputs": [],
   "source": [
    "y_pred=ada1.predict(x_test)"
   ]
  },
  {
   "cell_type": "code",
   "execution_count": 55,
   "id": "8735290f",
   "metadata": {
    "scrolled": true
   },
   "outputs": [
    {
     "data": {
      "text/plain": [
       "array([[ 0.00538306, -0.04464164,  0.05954058, ...,  0.05091436,\n",
       "        -0.00422151, -0.03007245],\n",
       "       [-0.01277963, -0.04464164,  0.06061839, ...,  0.03430886,\n",
       "         0.07020738,  0.00720652],\n",
       "       [ 0.01628068, -0.04464164, -0.04500719, ..., -0.0763945 ,\n",
       "        -0.04257085,  0.04034337],\n",
       "       ...,\n",
       "       [ 0.01264814, -0.04464164,  0.00672779, ..., -0.03764833,\n",
       "        -0.01811369, -0.09220405],\n",
       "       [-0.09996055, -0.04464164, -0.02345095, ..., -0.03949338,\n",
       "        -0.01811369, -0.05078298],\n",
       "       [-0.04910502,  0.05068012, -0.02452876, ...,  0.02840468,\n",
       "         0.01919647,  0.01134862]])"
      ]
     },
     "execution_count": 55,
     "metadata": {},
     "output_type": "execute_result"
    }
   ],
   "source": [
    "ada1.activation(x_train)"
   ]
  },
  {
   "cell_type": "code",
   "execution_count": 56,
   "id": "f049f8a1",
   "metadata": {},
   "outputs": [
    {
     "data": {
      "text/plain": [
       "array([1, 1, 1, 1, 1, 1, 1, 1, 1, 1, 1, 1, 1, 1, 1, 1, 1, 1, 1, 1, 1, 1,\n",
       "       1, 1, 1, 1, 1, 1, 1, 1, 1, 1, 1, 1, 1, 1, 1, 1, 1, 1, 1, 1, 1, 1,\n",
       "       1, 1, 1, 1, 1, 1, 1, 1, 1, 1, 1, 1, 1, 1, 1, 1, 1, 1, 1, 1, 1, 1,\n",
       "       1, 1, 1, 1, 1, 1, 1, 1, 1, 1, 1, 1, 1, 1, 1, 1, 1, 1, 1, 1, 1, 1,\n",
       "       1, 1, 1, 1, 1, 1, 1, 1, 1, 1, 1, 1, 1, 1, 1, 1, 1, 1, 1, 1, 1, 1,\n",
       "       1])"
      ]
     },
     "execution_count": 56,
     "metadata": {},
     "output_type": "execute_result"
    }
   ],
   "source": [
    "y_pred"
   ]
  },
  {
   "cell_type": "code",
   "execution_count": 58,
   "id": "e636d871",
   "metadata": {},
   "outputs": [],
   "source": [
    "data1=datasets.load_iris()\n",
    "xtrain,xtest,ytrain,ytest=train_test_split(data.data,data.target)\n",
    "\n"
   ]
  },
  {
   "cell_type": "code",
   "execution_count": 60,
   "id": "7842ae5c",
   "metadata": {},
   "outputs": [
    {
     "data": {
      "text/plain": [
       "array([1, 1, 1, 1, 1, 1, 1, 1, 1, 1, 1, 1, 1, 1, 1, 1, 1, 1, 1, 1, 1, 1,\n",
       "       1, 1, 1, 1, 1, 1, 1, 1, 1, 1, 1, 1, 1, 1, 1, 1, 1, 1, 1, 1, 1, 1,\n",
       "       1, 1, 1, 1, 1, 1, 1, 1, 1, 1, 1, 1, 1, 1, 1, 1, 1, 1, 1, 1, 1, 1,\n",
       "       1, 1, 1, 1, 1, 1, 1, 1, 1, 1, 1, 1, 1, 1, 1, 1, 1, 1, 1, 1, 1, 1,\n",
       "       1, 1, 1, 1, 1, 1, 1, 1, 1, 1, 1, 1, 1, 1, 1, 1, 1, 1, 1, 1, 1, 1,\n",
       "       1])"
      ]
     },
     "execution_count": 60,
     "metadata": {},
     "output_type": "execute_result"
    }
   ],
   "source": [
    "ada1.fit(xtrain,ytrain)\n",
    "y_pred2 =ada1.predict(xtest)\n",
    "y_pred2"
   ]
  }
 ],
 "metadata": {
  "kernelspec": {
   "display_name": "Python 3 (ipykernel)",
   "language": "python",
   "name": "python3"
  },
  "language_info": {
   "codemirror_mode": {
    "name": "ipython",
    "version": 3
   },
   "file_extension": ".py",
   "mimetype": "text/x-python",
   "name": "python",
   "nbconvert_exporter": "python",
   "pygments_lexer": "ipython3",
   "version": "3.10.9"
  }
 },
 "nbformat": 4,
 "nbformat_minor": 5
}
