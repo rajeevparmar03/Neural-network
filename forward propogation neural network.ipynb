{
 "cells": [
  {
   "cell_type": "code",
   "execution_count": 3,
   "id": "876f4ca6",
   "metadata": {},
   "outputs": [],
   "source": [
    "#forward propogation with hidden layer \n",
    "import numpy as np "
   ]
  },
  {
   "cell_type": "code",
   "execution_count": 4,
   "id": "9ea16aee",
   "metadata": {},
   "outputs": [],
   "source": [
    "x=np.array([[0,0],[0,1],[1,0],[1,1]])\n",
    "y=np.array([[0,0,0,1]]).T\n"
   ]
  },
  {
   "cell_type": "code",
   "execution_count": 5,
   "id": "d8e96237",
   "metadata": {},
   "outputs": [
    {
     "data": {
      "text/plain": [
       "(array([[0.48453954],\n",
       "        [0.00842756]]),\n",
       " array([0.03483281]))"
      ]
     },
     "execution_count": 5,
     "metadata": {},
     "output_type": "execute_result"
    }
   ],
   "source": [
    "#putting weights random between 1 and -1 \n",
    "weights = 2*np.random.random((2,1))-1  \n",
    "bias =2*np.random.random(1)-1\n",
    "weights ,bias "
   ]
  },
  {
   "cell_type": "code",
   "execution_count": 6,
   "id": "f5ad9f1e",
   "metadata": {},
   "outputs": [],
   "source": [
    "def seg(z):\n",
    "    return 1/(1+np.exp(-z))"
   ]
  },
  {
   "cell_type": "code",
   "execution_count": 7,
   "id": "28cd4319",
   "metadata": {},
   "outputs": [],
   "source": [
    "def segDerivative(z):\n",
    "    return seg(z)*(1-seg(z))"
   ]
  },
  {
   "cell_type": "code",
   "execution_count": 8,
   "id": "405d5a36",
   "metadata": {},
   "outputs": [
    {
     "data": {
      "text/plain": [
       "(array([[2.63149852],\n",
       "        [2.63025495]]),\n",
       " array([-4.07169594]),\n",
       " array([[0.01676267],\n",
       "        [0.1913223 ],\n",
       "        [0.19151478],\n",
       "        [0.76675135]]))"
      ]
     },
     "execution_count": 8,
     "metadata": {},
     "output_type": "execute_result"
    }
   ],
   "source": [
    "lr=0.01\n",
    "for iter in range(10000):\n",
    "    output0 = x\n",
    "    output = seg(np.dot(output0, weights) + bias)\n",
    "\n",
    "    first_term = output - y\n",
    "    input_for_last_layer = np.dot(output0, weights) + bias\n",
    "    second_term = segDerivative(input_for_last_layer)\n",
    "    first_two = first_term * second_term\n",
    "    first_two.shape\n",
    "\n",
    "    changes = np.array([[0.0],[0.0]])\n",
    "\n",
    "    for i in range(2):\n",
    "        for j in range(4):\n",
    "            changes[i][0] += first_two[j][0] * output0[j][i]\n",
    "    weights = weights - lr*changes\n",
    "    bias_change = 0.0\n",
    "    for j in range(4):\n",
    "        bias_change += first_two[j][0] * 1\n",
    "    bias = bias - lr * bias_change\n",
    "output = seg(np.dot(x, weights) + bias)\n",
    "weights, bias, output"
   ]
  },
  {
   "cell_type": "code",
   "execution_count": 9,
   "id": "7844d289",
   "metadata": {},
   "outputs": [
    {
     "data": {
      "text/plain": [
       "(array([[3.49700384],\n",
       "        [3.49695516]]),\n",
       " array([-5.35431812]),\n",
       " array([[0.00470545],\n",
       "        [0.13501072],\n",
       "        [0.1350164 ],\n",
       "        [0.83748606]]))"
      ]
     },
     "execution_count": 9,
     "metadata": {},
     "output_type": "execute_result"
    }
   ],
   "source": [
    "#in this code we are replacing 'for ' loops \n",
    "lr=0.01\n",
    "for iter in range(10000):\n",
    "    output0 = x\n",
    "    output = seg(np.dot(output0, weights) + bias)\n",
    "\n",
    "    first_term = output - y\n",
    "    input_for_last_layer = np.dot(output0, weights) + bias\n",
    "    second_term = segDerivative(input_for_last_layer)\n",
    "    first_two = first_term * second_term\n",
    "    first_two.shape\n",
    "    changes = np.dot(output0.T,first_two)        \n",
    "    weights = weights - lr*changes\n",
    "    bias_change =np.sum(first_two)\n",
    "    bias = bias - lr * bias_change\n",
    "output = seg(np.dot(x, weights) + bias)\n",
    "weights, bias, output"
   ]
  },
  {
   "cell_type": "code",
   "execution_count": null,
   "id": "038a7945",
   "metadata": {},
   "outputs": [],
   "source": []
  }
 ],
 "metadata": {
  "kernelspec": {
   "display_name": "Python 3 (ipykernel)",
   "language": "python",
   "name": "python3"
  },
  "language_info": {
   "codemirror_mode": {
    "name": "ipython",
    "version": 3
   },
   "file_extension": ".py",
   "mimetype": "text/x-python",
   "name": "python",
   "nbconvert_exporter": "python",
   "pygments_lexer": "ipython3",
   "version": "3.10.9"
  }
 },
 "nbformat": 4,
 "nbformat_minor": 5
}
